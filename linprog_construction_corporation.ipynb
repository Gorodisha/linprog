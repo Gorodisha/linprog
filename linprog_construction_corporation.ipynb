{
 "cells": [
  {
   "cell_type": "code",
   "execution_count": 1,
   "metadata": {},
   "outputs": [],
   "source": [
    "import numpy as np\n",
    "from scipy.optimize import linprog"
   ]
  },
  {
   "cell_type": "code",
   "execution_count": 2,
   "metadata": {},
   "outputs": [],
   "source": [
    "factories = 5"
   ]
  },
  {
   "cell_type": "code",
   "execution_count": 3,
   "metadata": {},
   "outputs": [],
   "source": [
    "ship_prices = np.array([84, 36, 42, 81, 63, 60, 66, 78, 15, 42, \n",
    "                                    63, 48, 33, 24, 33, 21, 33, 33, 60, 60,\n",
    "                                    63, 18, 33, 66, 45, 45, 51, 60, 9, 24,\n",
    "                                    39, 33, 57, 63, 42, 51, 45, 51, 45, 15,\n",
    "                                    30, 21, 42, 42, 24, 33, 24, 33, 39, 12])"
   ]
  },
  {
   "cell_type": "code",
   "execution_count": 4,
   "metadata": {},
   "outputs": [],
   "source": [
    "variables = len(ship_prices)"
   ]
  },
  {
   "cell_type": "code",
   "execution_count": 5,
   "metadata": {},
   "outputs": [],
   "source": [
    "reserves = np.array([290, 165, 235, 255, 105])"
   ]
  },
  {
   "cell_type": "code",
   "execution_count": 6,
   "metadata": {},
   "outputs": [],
   "source": [
    "demand = np.array([90, 65, 45, 75, 95, 100, 75, 505])"
   ]
  },
  {
   "cell_type": "code",
   "execution_count": 7,
   "metadata": {},
   "outputs": [],
   "source": [
    "def matrix_of_reserves_limitations(factories, variables, ship_prices):\n",
    "    \n",
    "    limitation_on_reserves = np.zeros(shape=(factories, variables), dtype=int)\n",
    "    count = variables / factories     #count = 10\n",
    "    \n",
    "    for index in range(0, factories):\n",
    "        begin = count * index   #откуда начинать\n",
    "        temp = np.zeros(50)\n",
    "        temp[int(begin):int(begin+count)] = ship_prices[int(begin):int(begin+count)]\n",
    "        limitation_on_reserves[index] = temp\n",
    "        \n",
    "        \n",
    "    return limitation_on_reserves"
   ]
  },
  {
   "cell_type": "code",
   "execution_count": 8,
   "metadata": {},
   "outputs": [],
   "source": [
    "limitations_to_reserves=matrix_of_reserves_limitations(factories, variables, ship_prices)"
   ]
  },
  {
   "cell_type": "code",
   "execution_count": 9,
   "metadata": {},
   "outputs": [],
   "source": [
    "def vector_to_matrix2(factories, variables, ship_prices):\n",
    "    res = np.zeros(shape=(factories, variables), dtype=int) #пустая матрица из 0\n",
    "    count = variables / factories     #count = 5\n",
    "    print(count)\n",
    "    for index in range(0, int(factories)):\n",
    "        begin = count * index   #откуда начинать begin[0, 5, 10, 20, ... , 45]\n",
    "        temp = np.zeros(50, dtype=int)\n",
    "        indexTemp = 0\n",
    "        for index2 in range(int(begin), int(begin + count)):\n",
    "            temp[int(indexTemp)] = ship_prices[int(index2)]\n",
    "            indexTemp += factories\n",
    "        res[index] = temp\n",
    "\n",
    "    return res"
   ]
  },
  {
   "cell_type": "code",
   "execution_count": 10,
   "metadata": {},
   "outputs": [
    {
     "name": "stdout",
     "output_type": "stream",
     "text": [
      "5.0\n"
     ]
    },
    {
     "data": {
      "text/plain": [
       "array([[84,  0,  0,  0,  0,  0,  0,  0,  0,  0, 36,  0,  0,  0,  0,  0,\n",
       "         0,  0,  0,  0, 42,  0,  0,  0,  0,  0,  0,  0,  0,  0, 81,  0,\n",
       "         0,  0,  0,  0,  0,  0,  0,  0, 63,  0,  0,  0,  0,  0,  0,  0,\n",
       "         0,  0],\n",
       "       [60,  0,  0,  0,  0,  0,  0,  0,  0,  0, 66,  0,  0,  0,  0,  0,\n",
       "         0,  0,  0,  0, 78,  0,  0,  0,  0,  0,  0,  0,  0,  0, 15,  0,\n",
       "         0,  0,  0,  0,  0,  0,  0,  0, 42,  0,  0,  0,  0,  0,  0,  0,\n",
       "         0,  0],\n",
       "       [63,  0,  0,  0,  0,  0,  0,  0,  0,  0, 48,  0,  0,  0,  0,  0,\n",
       "         0,  0,  0,  0, 33,  0,  0,  0,  0,  0,  0,  0,  0,  0, 24,  0,\n",
       "         0,  0,  0,  0,  0,  0,  0,  0, 33,  0,  0,  0,  0,  0,  0,  0,\n",
       "         0,  0],\n",
       "       [21,  0,  0,  0,  0,  0,  0,  0,  0,  0, 33,  0,  0,  0,  0,  0,\n",
       "         0,  0,  0,  0, 33,  0,  0,  0,  0,  0,  0,  0,  0,  0, 60,  0,\n",
       "         0,  0,  0,  0,  0,  0,  0,  0, 60,  0,  0,  0,  0,  0,  0,  0,\n",
       "         0,  0],\n",
       "       [63,  0,  0,  0,  0,  0,  0,  0,  0,  0, 18,  0,  0,  0,  0,  0,\n",
       "         0,  0,  0,  0, 33,  0,  0,  0,  0,  0,  0,  0,  0,  0, 66,  0,\n",
       "         0,  0,  0,  0,  0,  0,  0,  0, 45,  0,  0,  0,  0,  0,  0,  0,\n",
       "         0,  0],\n",
       "       [45,  0,  0,  0,  0,  0,  0,  0,  0,  0, 51,  0,  0,  0,  0,  0,\n",
       "         0,  0,  0,  0, 60,  0,  0,  0,  0,  0,  0,  0,  0,  0,  9,  0,\n",
       "         0,  0,  0,  0,  0,  0,  0,  0, 24,  0,  0,  0,  0,  0,  0,  0,\n",
       "         0,  0],\n",
       "       [39,  0,  0,  0,  0,  0,  0,  0,  0,  0, 33,  0,  0,  0,  0,  0,\n",
       "         0,  0,  0,  0, 57,  0,  0,  0,  0,  0,  0,  0,  0,  0, 63,  0,\n",
       "         0,  0,  0,  0,  0,  0,  0,  0, 42,  0,  0,  0,  0,  0,  0,  0,\n",
       "         0,  0],\n",
       "       [51,  0,  0,  0,  0,  0,  0,  0,  0,  0, 45,  0,  0,  0,  0,  0,\n",
       "         0,  0,  0,  0, 51,  0,  0,  0,  0,  0,  0,  0,  0,  0, 45,  0,\n",
       "         0,  0,  0,  0,  0,  0,  0,  0, 15,  0,  0,  0,  0,  0,  0,  0,\n",
       "         0,  0],\n",
       "       [30,  0,  0,  0,  0,  0,  0,  0,  0,  0, 21,  0,  0,  0,  0,  0,\n",
       "         0,  0,  0,  0, 42,  0,  0,  0,  0,  0,  0,  0,  0,  0, 42,  0,\n",
       "         0,  0,  0,  0,  0,  0,  0,  0, 24,  0,  0,  0,  0,  0,  0,  0,\n",
       "         0,  0],\n",
       "       [33,  0,  0,  0,  0,  0,  0,  0,  0,  0, 24,  0,  0,  0,  0,  0,\n",
       "         0,  0,  0,  0, 33,  0,  0,  0,  0,  0,  0,  0,  0,  0, 39,  0,\n",
       "         0,  0,  0,  0,  0,  0,  0,  0, 12,  0,  0,  0,  0,  0,  0,  0,\n",
       "         0,  0]])"
      ]
     },
     "execution_count": 10,
     "metadata": {},
     "output_type": "execute_result"
    }
   ],
   "source": [
    "vector_to_matrix2(10, variables, ship_prices)"
   ]
  },
  {
   "cell_type": "code",
   "execution_count": null,
   "metadata": {},
   "outputs": [],
   "source": []
  },
  {
   "cell_type": "code",
   "execution_count": null,
   "metadata": {},
   "outputs": [],
   "source": []
  },
  {
   "cell_type": "code",
   "execution_count": 11,
   "metadata": {},
   "outputs": [
    {
     "ename": "SyntaxError",
     "evalue": "invalid syntax (<ipython-input-11-ec9d9e51aa09>, line 1)",
     "output_type": "error",
     "traceback": [
      "\u001b[1;36m  File \u001b[1;32m\"<ipython-input-11-ec9d9e51aa09>\"\u001b[1;36m, line \u001b[1;32m1\u001b[0m\n\u001b[1;33m    res = linprog(ship_prices, A_ub=limitations_to_reserves, b_ub=reserves,A_eq=, b_eq=, bounds=(0, None))\u001b[0m\n\u001b[1;37m                                                                                ^\u001b[0m\n\u001b[1;31mSyntaxError\u001b[0m\u001b[1;31m:\u001b[0m invalid syntax\n"
     ]
    }
   ],
   "source": [
    "res = linprog(ship_prices, A_ub=limitations_to_reserves, b_ub=reserves,A_eq=, b_eq=, bounds=(0, None))"
   ]
  },
  {
   "cell_type": "code",
   "execution_count": null,
   "metadata": {},
   "outputs": [],
   "source": []
  },
  {
   "cell_type": "code",
   "execution_count": null,
   "metadata": {},
   "outputs": [],
   "source": []
  },
  {
   "cell_type": "code",
   "execution_count": null,
   "metadata": {},
   "outputs": [],
   "source": []
  },
  {
   "cell_type": "code",
   "execution_count": null,
   "metadata": {},
   "outputs": [],
   "source": []
  }
 ],
 "metadata": {
  "kernelspec": {
   "display_name": "Python 3",
   "language": "python",
   "name": "python3"
  },
  "language_info": {
   "codemirror_mode": {
    "name": "ipython",
    "version": 3
   },
   "file_extension": ".py",
   "mimetype": "text/x-python",
   "name": "python",
   "nbconvert_exporter": "python",
   "pygments_lexer": "ipython3",
   "version": "3.7.4"
  }
 },
 "nbformat": 4,
 "nbformat_minor": 2
}
