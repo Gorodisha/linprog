{
 "cells": [
  {
   "cell_type": "code",
   "execution_count": 1,
   "metadata": {},
   "outputs": [],
   "source": [
    "import numpy as np\n",
    "from scipy.optimize import linprog"
   ]
  },
  {
   "cell_type": "markdown",
   "metadata": {},
   "source": [
    "# Первая неделя"
   ]
  },
  {
   "cell_type": "code",
   "execution_count": 5,
   "metadata": {},
   "outputs": [],
   "source": [
    "# Вектор затрат на транспортировку (не путать с матрицей). \n",
    "# Первые 7 псевдостолбиков - клиенты, последние 3 - склады.\n",
    "# Псевдострочки - заводы.\n",
    "\n",
    "ship_prices = np.array([84, 36, 42, 81, 63, 60, 66, 78, 15, 42, \n",
    "                                    63, 48, 33, 24, 33, 21, 33, 33, 60, 60,\n",
    "                                    63, 18, 33, 66, 45, 45, 51, 60, 9, 24,\n",
    "                                    39, 33, 57, 63, 42, 51, 45, 51, 45, 15,\n",
    "                                    30, 21, 42, 42, 24, 33, 24, 33, 39, 12])"
   ]
  },
  {
   "cell_type": "code",
   "execution_count": 6,
   "metadata": {},
   "outputs": [
    {
     "name": "stdout",
     "output_type": "stream",
     "text": [
      "50\n",
      "10\n"
     ]
    }
   ],
   "source": [
    "factories = 5 #число заводов\n",
    "\n",
    "variables = len(ship_prices) #число переменных \n",
    "print(variables)\n",
    "\n",
    "points = int(variables/factories) #число пунктов доставки (куда доставить)\n",
    "print(points)"
   ]
  },
  {
   "cell_type": "code",
   "execution_count": 7,
   "metadata": {},
   "outputs": [],
   "source": [
    "reserves = np.array([290, 165, 235, 255, 105]) #резервы (запасы)\n",
    "demand = np.array([90, 65, 45, 75, 95, 100, 75, 150, 150, 205]) # спрос (в том числе и на доставку на склады)"
   ]
  },
  {
   "cell_type": "code",
   "execution_count": 8,
   "metadata": {},
   "outputs": [],
   "source": [
    "# Функция для создания ограничений на запасы:\n",
    "\n",
    "def matrix_of_reserves_limitations(factories, variables):\n",
    "    \n",
    "    res = np.zeros(shape=(factories, variables), dtype=int) #Матрица нулей размера заводы*переменные\n",
    "    count = int(variables / factories)  #Локальная переменная - число пунктов доставки\n",
    "    \n",
    "    for index in range(factories): #Для чисел от нуля до количества заводов\n",
    "        begin = count * index   #стартовать вычисления будем с этой точки (в нашей задаче begin = (0, 10, 20, 30, 40)) .\n",
    "        temp = np.zeros(variables) #Временная переменная - нулевой вектор длиной variables,для которого\n",
    "        temp[begin:(begin+count)] = 1 #срез от стартовой точки до заданной мы заменяем единицами\n",
    "        res[index] = temp #и записываем полученное изменение в res.\n",
    "           \n",
    "    return res"
   ]
  },
  {
   "cell_type": "code",
   "execution_count": 9,
   "metadata": {},
   "outputs": [
    {
     "data": {
      "text/plain": [
       "array([[1, 1, 1, 1, 1, 1, 1, 1, 1, 1, 0, 0, 0, 0, 0, 0, 0, 0, 0, 0, 0, 0,\n",
       "        0, 0, 0, 0, 0, 0, 0, 0, 0, 0, 0, 0, 0, 0, 0, 0, 0, 0, 0, 0, 0, 0,\n",
       "        0, 0, 0, 0, 0, 0],\n",
       "       [0, 0, 0, 0, 0, 0, 0, 0, 0, 0, 1, 1, 1, 1, 1, 1, 1, 1, 1, 1, 0, 0,\n",
       "        0, 0, 0, 0, 0, 0, 0, 0, 0, 0, 0, 0, 0, 0, 0, 0, 0, 0, 0, 0, 0, 0,\n",
       "        0, 0, 0, 0, 0, 0],\n",
       "       [0, 0, 0, 0, 0, 0, 0, 0, 0, 0, 0, 0, 0, 0, 0, 0, 0, 0, 0, 0, 1, 1,\n",
       "        1, 1, 1, 1, 1, 1, 1, 1, 0, 0, 0, 0, 0, 0, 0, 0, 0, 0, 0, 0, 0, 0,\n",
       "        0, 0, 0, 0, 0, 0],\n",
       "       [0, 0, 0, 0, 0, 0, 0, 0, 0, 0, 0, 0, 0, 0, 0, 0, 0, 0, 0, 0, 0, 0,\n",
       "        0, 0, 0, 0, 0, 0, 0, 0, 1, 1, 1, 1, 1, 1, 1, 1, 1, 1, 0, 0, 0, 0,\n",
       "        0, 0, 0, 0, 0, 0],\n",
       "       [0, 0, 0, 0, 0, 0, 0, 0, 0, 0, 0, 0, 0, 0, 0, 0, 0, 0, 0, 0, 0, 0,\n",
       "        0, 0, 0, 0, 0, 0, 0, 0, 0, 0, 0, 0, 0, 0, 0, 0, 0, 0, 1, 1, 1, 1,\n",
       "        1, 1, 1, 1, 1, 1]])"
      ]
     },
     "execution_count": 9,
     "metadata": {},
     "output_type": "execute_result"
    }
   ],
   "source": [
    "# Результат выполнения данной функции записываем в переменную.\n",
    "limitations_to_reserves=matrix_of_reserves_limitations(factories, variables)\n",
    "\n",
    "#Любуемся.\n",
    "limitations_to_reserves"
   ]
  },
  {
   "cell_type": "code",
   "execution_count": 10,
   "metadata": {},
   "outputs": [],
   "source": [
    "# Функция для создания ограничений на заказы:\n",
    "\n",
    "def matrix_of_demand_limitations(factories, variables):\n",
    "    \n",
    "    count = int(variables / factories) #Локальная переменная - число пунктов доставки\n",
    "    res = np.zeros(shape=(count, variables), dtype=int) #Матрица нулей размера пункты*переменные      \n",
    "    begin = 0 #Точка отсчета начинается в нуле.\n",
    "    \n",
    "    while begin < count: #Пока мы не проделаем число итераций, равное count\n",
    "        \n",
    "        for index in range(begin, count): #Для индексов от точки отсчета до count\n",
    "            temp = np.zeros(variables, dtype=int) #Временная переменная - вектор нулей длины variables\n",
    "            indexTemp = 0 #Временный индекс начинается с нуля.\n",
    "            \n",
    "            for index2 in range(begin,variables,count): #Для других индексов от точки отсчета до количества переменных с шагом count\n",
    "                temp[indexTemp+begin] = 1 #Заменяем временную переменную на позиции \"indexTemp+begin\" на единицу.\n",
    "                indexTemp += count #Прибавляем временный счетчик (в нашей задаче на 10)\n",
    "                \n",
    "            begin+=1 #Во внешнем цикле увеличиваем точку отсчета на единицу\n",
    "            res[index] = temp #Записываем результат в res\n",
    "            \n",
    "            \n",
    "    return res"
   ]
  },
  {
   "cell_type": "code",
   "execution_count": 11,
   "metadata": {},
   "outputs": [
    {
     "data": {
      "text/plain": [
       "array([[1, 0, 0, 0, 0, 0, 0, 0, 0, 0, 1, 0, 0, 0, 0, 0, 0, 0, 0, 0, 1, 0,\n",
       "        0, 0, 0, 0, 0, 0, 0, 0, 1, 0, 0, 0, 0, 0, 0, 0, 0, 0, 1, 0, 0, 0,\n",
       "        0, 0, 0, 0, 0, 0],\n",
       "       [0, 1, 0, 0, 0, 0, 0, 0, 0, 0, 0, 1, 0, 0, 0, 0, 0, 0, 0, 0, 0, 1,\n",
       "        0, 0, 0, 0, 0, 0, 0, 0, 0, 1, 0, 0, 0, 0, 0, 0, 0, 0, 0, 1, 0, 0,\n",
       "        0, 0, 0, 0, 0, 0],\n",
       "       [0, 0, 1, 0, 0, 0, 0, 0, 0, 0, 0, 0, 1, 0, 0, 0, 0, 0, 0, 0, 0, 0,\n",
       "        1, 0, 0, 0, 0, 0, 0, 0, 0, 0, 1, 0, 0, 0, 0, 0, 0, 0, 0, 0, 1, 0,\n",
       "        0, 0, 0, 0, 0, 0],\n",
       "       [0, 0, 0, 1, 0, 0, 0, 0, 0, 0, 0, 0, 0, 1, 0, 0, 0, 0, 0, 0, 0, 0,\n",
       "        0, 1, 0, 0, 0, 0, 0, 0, 0, 0, 0, 1, 0, 0, 0, 0, 0, 0, 0, 0, 0, 1,\n",
       "        0, 0, 0, 0, 0, 0],\n",
       "       [0, 0, 0, 0, 1, 0, 0, 0, 0, 0, 0, 0, 0, 0, 1, 0, 0, 0, 0, 0, 0, 0,\n",
       "        0, 0, 1, 0, 0, 0, 0, 0, 0, 0, 0, 0, 1, 0, 0, 0, 0, 0, 0, 0, 0, 0,\n",
       "        1, 0, 0, 0, 0, 0],\n",
       "       [0, 0, 0, 0, 0, 1, 0, 0, 0, 0, 0, 0, 0, 0, 0, 1, 0, 0, 0, 0, 0, 0,\n",
       "        0, 0, 0, 1, 0, 0, 0, 0, 0, 0, 0, 0, 0, 1, 0, 0, 0, 0, 0, 0, 0, 0,\n",
       "        0, 1, 0, 0, 0, 0],\n",
       "       [0, 0, 0, 0, 0, 0, 1, 0, 0, 0, 0, 0, 0, 0, 0, 0, 1, 0, 0, 0, 0, 0,\n",
       "        0, 0, 0, 0, 1, 0, 0, 0, 0, 0, 0, 0, 0, 0, 1, 0, 0, 0, 0, 0, 0, 0,\n",
       "        0, 0, 1, 0, 0, 0],\n",
       "       [0, 0, 0, 0, 0, 0, 0, 1, 0, 0, 0, 0, 0, 0, 0, 0, 0, 1, 0, 0, 0, 0,\n",
       "        0, 0, 0, 0, 0, 1, 0, 0, 0, 0, 0, 0, 0, 0, 0, 1, 0, 0, 0, 0, 0, 0,\n",
       "        0, 0, 0, 1, 0, 0],\n",
       "       [0, 0, 0, 0, 0, 0, 0, 0, 1, 0, 0, 0, 0, 0, 0, 0, 0, 0, 1, 0, 0, 0,\n",
       "        0, 0, 0, 0, 0, 0, 1, 0, 0, 0, 0, 0, 0, 0, 0, 0, 1, 0, 0, 0, 0, 0,\n",
       "        0, 0, 0, 0, 1, 0],\n",
       "       [0, 0, 0, 0, 0, 0, 0, 0, 0, 1, 0, 0, 0, 0, 0, 0, 0, 0, 0, 1, 0, 0,\n",
       "        0, 0, 0, 0, 0, 0, 0, 1, 0, 0, 0, 0, 0, 0, 0, 0, 0, 1, 0, 0, 0, 0,\n",
       "        0, 0, 0, 0, 0, 1]])"
      ]
     },
     "execution_count": 11,
     "metadata": {},
     "output_type": "execute_result"
    }
   ],
   "source": [
    "# Результат выполнения данной функции записываем в переменную.\n",
    "limitations_to_demand=matrix_of_demand_limitations(factories, variables)\n",
    "\n",
    "#Любуемся.\n",
    "limitations_to_demand"
   ]
  },
  {
   "cell_type": "code",
   "execution_count": 13,
   "metadata": {},
   "outputs": [
    {
     "data": {
      "text/plain": [
       "     con: array([0., 0., 0., 0., 0., 0., 0., 0., 0., 0.])\n",
       "     fun: 31815.0\n",
       " message: 'Optimization terminated successfully.'\n",
       "     nit: 45\n",
       "   slack: array([0., 0., 0., 0., 0.])\n",
       "  status: 0\n",
       " success: True\n",
       "       x: array([  0.,   0.,  45.,   0.,   0.,  95.,   0.,   0., 150.,   0.,   0.,\n",
       "         0.,   0.,  75.,   0.,   0.,   0.,  90.,   0.,   0.,   0.,  65.,\n",
       "         0.,   0.,  95.,   5.,  30.,   0.,   0.,  40.,  90.,   0.,   0.,\n",
       "         0.,   0.,   0.,   0.,   0.,   0., 165.,   0.,   0.,   0.,   0.,\n",
       "         0.,   0.,  45.,  60.,   0.,   0.])"
      ]
     },
     "execution_count": 13,
     "metadata": {},
     "output_type": "execute_result"
    }
   ],
   "source": [
    "#Решаю симплекс-методом. Он медленне остальных и относительно старый, но зато целочисленный.\n",
    "first_week=linprog(c=ship_prices, \n",
    "              A_ub=limitations_to_reserves, b_ub=reserves,\n",
    "              A_eq=limitations_to_demand, b_eq=demand,method='simplex')\n",
    "first_week"
   ]
  },
  {
   "cell_type": "code",
   "execution_count": 14,
   "metadata": {},
   "outputs": [
    {
     "data": {
      "text/plain": [
       "array([[  0.,   0.,  45.,   0.,   0.,  95.,   0.,   0., 150.,   0.],\n",
       "       [  0.,   0.,   0.,  75.,   0.,   0.,   0.,  90.,   0.,   0.],\n",
       "       [  0.,  65.,   0.,   0.,  95.,   5.,  30.,   0.,   0.,  40.],\n",
       "       [ 90.,   0.,   0.,   0.,   0.,   0.,   0.,   0.,   0., 165.],\n",
       "       [  0.,   0.,   0.,   0.,   0.,   0.,  45.,  60.,   0.,   0.]])"
      ]
     },
     "execution_count": 14,
     "metadata": {},
     "output_type": "execute_result"
    }
   ],
   "source": [
    "#Более удобное представление результата доставок в первую неделю работы.\n",
    "np.reshape(first_week['x'],(factories,points))"
   ]
  },
  {
   "cell_type": "markdown",
   "metadata": {},
   "source": [
    "# Вторая неделя"
   ]
  },
  {
   "cell_type": "code",
   "execution_count": 15,
   "metadata": {},
   "outputs": [],
   "source": [
    "# Вектор затрат на транспортировку. \n",
    "# Псевдостолбики - клиенты.\n",
    "# Псевдострочки - склады.\n",
    "\n",
    "warehouse_prices = np.array([27, 57, 63, 21, 30, 39, 24,\n",
    "                                                69, 21, 27, 66, 48, 45, 51,\n",
    "                                                42, 18, 42, 54, 33, 39, 36])"
   ]
  },
  {
   "cell_type": "code",
   "execution_count": 16,
   "metadata": {},
   "outputs": [
    {
     "name": "stdout",
     "output_type": "stream",
     "text": [
      "21\n",
      "7\n"
     ]
    }
   ],
   "source": [
    "warehouses = 3\n",
    "\n",
    "second_variables = len(warehouse_prices) #число переменных \n",
    "print(second_variables)\n",
    "\n",
    "second_points = int(second_variables/warehouses) #число пунктов доставки (куда доставить)\n",
    "print(second_points)"
   ]
  },
  {
   "cell_type": "code",
   "execution_count": 17,
   "metadata": {},
   "outputs": [],
   "source": [
    "starage_reserves = np.array([150,150,205]) #складские запасы\n",
    "second_demand = np.array([55, 45, 70, 75, 40, 35, 185]) # спрос второй недели"
   ]
  },
  {
   "cell_type": "code",
   "execution_count": 18,
   "metadata": {},
   "outputs": [
    {
     "data": {
      "text/plain": [
       "array([[1, 1, 1, 1, 1, 1, 1, 0, 0, 0, 0, 0, 0, 0, 0, 0, 0, 0, 0, 0, 0],\n",
       "       [0, 0, 0, 0, 0, 0, 0, 1, 1, 1, 1, 1, 1, 1, 0, 0, 0, 0, 0, 0, 0],\n",
       "       [0, 0, 0, 0, 0, 0, 0, 0, 0, 0, 0, 0, 0, 0, 1, 1, 1, 1, 1, 1, 1]])"
      ]
     },
     "execution_count": 18,
     "metadata": {},
     "output_type": "execute_result"
    }
   ],
   "source": [
    "# Результат выполнения данной функции записываем в переменную.\n",
    "limit_storage=matrix_of_reserves_limitations(warehouses, second_variables)\n",
    "\n",
    "#Любуемся.\n",
    "limit_storage"
   ]
  },
  {
   "cell_type": "code",
   "execution_count": 19,
   "metadata": {},
   "outputs": [
    {
     "data": {
      "text/plain": [
       "array([[1, 0, 0, 0, 0, 0, 0, 1, 0, 0, 0, 0, 0, 0, 1, 0, 0, 0, 0, 0, 0],\n",
       "       [0, 1, 0, 0, 0, 0, 0, 0, 1, 0, 0, 0, 0, 0, 0, 1, 0, 0, 0, 0, 0],\n",
       "       [0, 0, 1, 0, 0, 0, 0, 0, 0, 1, 0, 0, 0, 0, 0, 0, 1, 0, 0, 0, 0],\n",
       "       [0, 0, 0, 1, 0, 0, 0, 0, 0, 0, 1, 0, 0, 0, 0, 0, 0, 1, 0, 0, 0],\n",
       "       [0, 0, 0, 0, 1, 0, 0, 0, 0, 0, 0, 1, 0, 0, 0, 0, 0, 0, 1, 0, 0],\n",
       "       [0, 0, 0, 0, 0, 1, 0, 0, 0, 0, 0, 0, 1, 0, 0, 0, 0, 0, 0, 1, 0],\n",
       "       [0, 0, 0, 0, 0, 0, 1, 0, 0, 0, 0, 0, 0, 1, 0, 0, 0, 0, 0, 0, 1]])"
      ]
     },
     "execution_count": 19,
     "metadata": {},
     "output_type": "execute_result"
    }
   ],
   "source": [
    "# Результат выполнения данной функции записываем в переменную.\n",
    "limitat_demand=matrix_of_demand_limitations(warehouses, second_variables)\n",
    "\n",
    "#Любуемся.\n",
    "limitat_demand"
   ]
  },
  {
   "cell_type": "code",
   "execution_count": 20,
   "metadata": {},
   "outputs": [
    {
     "data": {
      "text/plain": [
       "     con: array([0., 0., 0., 0., 0., 0., 0.])\n",
       "     fun: 15210.0\n",
       " message: 'Optimization terminated successfully.'\n",
       "     nit: 27\n",
       "   slack: array([0., 0., 0.])\n",
       "  status: 0\n",
       " success: True\n",
       "       x: array([ 55.,   0.,   0.,  75.,   0.,   0.,  20.,   0.,  45.,  70.,   0.,\n",
       "         0.,  35.,   0.,   0.,   0.,   0.,   0.,  40.,   0., 165.])"
      ]
     },
     "execution_count": 20,
     "metadata": {},
     "output_type": "execute_result"
    }
   ],
   "source": [
    "#Решаю симплекс-методом. Он медленне остальных и относительно старый, но зато целочисленный.\n",
    "second_week=linprog(c=warehouse_prices, \n",
    "              A_ub=limit_storage, b_ub=starage_reserves,\n",
    "              A_eq=limitat_demand, b_eq=second_demand,method='simplex')\n",
    "second_week"
   ]
  },
  {
   "cell_type": "code",
   "execution_count": 21,
   "metadata": {},
   "outputs": [
    {
     "data": {
      "text/plain": [
       "array([[ 55.,   0.,   0.,  75.,   0.,   0.,  20.],\n",
       "       [  0.,  45.,  70.,   0.,   0.,  35.,   0.],\n",
       "       [  0.,   0.,   0.,   0.,  40.,   0., 165.]])"
      ]
     },
     "execution_count": 21,
     "metadata": {},
     "output_type": "execute_result"
    }
   ],
   "source": [
    "#Более удобное представление результата доставок в первую неделю работы.\n",
    "np.reshape(second_week['x'],(warehouses,second_points))"
   ]
  },
  {
   "cell_type": "markdown",
   "metadata": {},
   "source": [
    "Общий результат оптимизации"
   ]
  },
  {
   "cell_type": "code",
   "execution_count": 22,
   "metadata": {},
   "outputs": [
    {
     "data": {
      "text/plain": [
       "47025.0"
      ]
     },
     "execution_count": 22,
     "metadata": {},
     "output_type": "execute_result"
    }
   ],
   "source": [
    "good_score = second_week['fun']+first_week['fun']\n",
    "good_score"
   ]
  },
  {
   "cell_type": "markdown",
   "metadata": {},
   "source": [
    "# Что было бы без \"тотальной\" оптимизации"
   ]
  },
  {
   "cell_type": "markdown",
   "metadata": {},
   "source": [
    "Доставка завод-клиент"
   ]
  },
  {
   "cell_type": "code",
   "execution_count": 176,
   "metadata": {},
   "outputs": [],
   "source": [
    "# Вектор затрат на транспортировку с завода до клиента. \n",
    "# Псевдостолбикb - клиенты.\n",
    "# Псевдострочки - заводы.\n",
    "\n",
    "ship_prices_f_c = np.array([84, 36, 42, 81, 63, 60, 66, \n",
    "                                    63, 48, 33, 24, 33, 21, 33, \n",
    "                                    63, 18, 33, 66, 45, 45, 51, \n",
    "                                    39, 33, 57, 63, 42, 51, 45,\n",
    "                                    30, 21, 42, 42, 24, 33, 24])"
   ]
  },
  {
   "cell_type": "code",
   "execution_count": 179,
   "metadata": {},
   "outputs": [
    {
     "name": "stdout",
     "output_type": "stream",
     "text": [
      "35\n"
     ]
    }
   ],
   "source": [
    "factories = 5 #число заводов\n",
    "clients = 7\n",
    "\n",
    "variables_f_c = len(ship_prices_f_c) #число переменных \n",
    "print(variables_f_c)"
   ]
  },
  {
   "cell_type": "code",
   "execution_count": 180,
   "metadata": {},
   "outputs": [],
   "source": [
    "reserves = np.array([290, 165, 235, 255, 105]) #резервы (запасы)\n",
    "demand_f_c_1 = np.array([90, 65, 45, 75, 95, 100, 75]) # спрос "
   ]
  },
  {
   "cell_type": "code",
   "execution_count": 181,
   "metadata": {},
   "outputs": [
    {
     "data": {
      "text/plain": [
       "array([[1, 1, 1, 1, 1, 1, 1, 0, 0, 0, 0, 0, 0, 0, 0, 0, 0, 0, 0, 0, 0, 0,\n",
       "        0, 0, 0, 0, 0, 0, 0, 0, 0, 0, 0, 0, 0],\n",
       "       [0, 0, 0, 0, 0, 0, 0, 1, 1, 1, 1, 1, 1, 1, 0, 0, 0, 0, 0, 0, 0, 0,\n",
       "        0, 0, 0, 0, 0, 0, 0, 0, 0, 0, 0, 0, 0],\n",
       "       [0, 0, 0, 0, 0, 0, 0, 0, 0, 0, 0, 0, 0, 0, 1, 1, 1, 1, 1, 1, 1, 0,\n",
       "        0, 0, 0, 0, 0, 0, 0, 0, 0, 0, 0, 0, 0],\n",
       "       [0, 0, 0, 0, 0, 0, 0, 0, 0, 0, 0, 0, 0, 0, 0, 0, 0, 0, 0, 0, 0, 1,\n",
       "        1, 1, 1, 1, 1, 1, 0, 0, 0, 0, 0, 0, 0],\n",
       "       [0, 0, 0, 0, 0, 0, 0, 0, 0, 0, 0, 0, 0, 0, 0, 0, 0, 0, 0, 0, 0, 0,\n",
       "        0, 0, 0, 0, 0, 0, 1, 1, 1, 1, 1, 1, 1]])"
      ]
     },
     "execution_count": 181,
     "metadata": {},
     "output_type": "execute_result"
    }
   ],
   "source": [
    "# Результат выполнения данной функции записываем в переменную.\n",
    "limitations_to_reserves_f_c=matrix_of_reserves_limitations(factories, variables_f_c)\n",
    "\n",
    "#Любуемся.\n",
    "limitations_to_reserves_f_c"
   ]
  },
  {
   "cell_type": "code",
   "execution_count": 182,
   "metadata": {},
   "outputs": [
    {
     "data": {
      "text/plain": [
       "array([[1, 0, 0, 0, 0, 0, 0, 1, 0, 0, 0, 0, 0, 0, 1, 0, 0, 0, 0, 0, 0, 1,\n",
       "        0, 0, 0, 0, 0, 0, 1, 0, 0, 0, 0, 0, 0],\n",
       "       [0, 1, 0, 0, 0, 0, 0, 0, 1, 0, 0, 0, 0, 0, 0, 1, 0, 0, 0, 0, 0, 0,\n",
       "        1, 0, 0, 0, 0, 0, 0, 1, 0, 0, 0, 0, 0],\n",
       "       [0, 0, 1, 0, 0, 0, 0, 0, 0, 1, 0, 0, 0, 0, 0, 0, 1, 0, 0, 0, 0, 0,\n",
       "        0, 1, 0, 0, 0, 0, 0, 0, 1, 0, 0, 0, 0],\n",
       "       [0, 0, 0, 1, 0, 0, 0, 0, 0, 0, 1, 0, 0, 0, 0, 0, 0, 1, 0, 0, 0, 0,\n",
       "        0, 0, 1, 0, 0, 0, 0, 0, 0, 1, 0, 0, 0],\n",
       "       [0, 0, 0, 0, 1, 0, 0, 0, 0, 0, 0, 1, 0, 0, 0, 0, 0, 0, 1, 0, 0, 0,\n",
       "        0, 0, 0, 1, 0, 0, 0, 0, 0, 0, 1, 0, 0],\n",
       "       [0, 0, 0, 0, 0, 1, 0, 0, 0, 0, 0, 0, 1, 0, 0, 0, 0, 0, 0, 1, 0, 0,\n",
       "        0, 0, 0, 0, 1, 0, 0, 0, 0, 0, 0, 1, 0],\n",
       "       [0, 0, 0, 0, 0, 0, 1, 0, 0, 0, 0, 0, 0, 1, 0, 0, 0, 0, 0, 0, 1, 0,\n",
       "        0, 0, 0, 0, 0, 1, 0, 0, 0, 0, 0, 0, 1]])"
      ]
     },
     "execution_count": 182,
     "metadata": {},
     "output_type": "execute_result"
    }
   ],
   "source": [
    "# Результат выполнения данной функции записываем в переменную.\n",
    "limitations_to_demand_f_c=matrix_of_demand_limitations(factories, variables_f_c)\n",
    "\n",
    "#Любуемся.\n",
    "limitations_to_demand_f_c"
   ]
  },
  {
   "cell_type": "code",
   "execution_count": 184,
   "metadata": {},
   "outputs": [
    {
     "data": {
      "text/plain": [
       "     con: array([0., 0., 0., 0., 0., 0., 0.])\n",
       "     fun: 15555.0\n",
       " message: 'Optimization terminated successfully.'\n",
       "     nit: 42\n",
       "   slack: array([290.,   0., 115., 100.,   0.])\n",
       "  status: 0\n",
       " success: True\n",
       "       x: array([ 0.,  0.,  0.,  0.,  0.,  0.,  0.,  0.,  0.,  0., 75.,  0., 90.,\n",
       "        0.,  0., 65., 45.,  0.,  0., 10.,  0., 90.,  0.,  0.,  0., 65.,\n",
       "        0.,  0.,  0.,  0.,  0.,  0., 30.,  0., 75.])"
      ]
     },
     "execution_count": 184,
     "metadata": {},
     "output_type": "execute_result"
    }
   ],
   "source": [
    "#Решаю симплекс-методом. Он медленне остальных и относительно старый, но зато целочисленный.\n",
    "deliver_f_c=linprog(c=ship_prices_f_c, \n",
    "              A_ub=limitations_to_reserves_f_c, b_ub=reserves,\n",
    "              A_eq=limitations_to_demand_f_c, b_eq=demand_f_c_1,method='simplex')\n",
    "deliver_f_c"
   ]
  },
  {
   "cell_type": "code",
   "execution_count": 186,
   "metadata": {},
   "outputs": [
    {
     "data": {
      "text/plain": [
       "array([[ 0.,  0.,  0.,  0.,  0.,  0.,  0.],\n",
       "       [ 0.,  0.,  0., 75.,  0., 90.,  0.],\n",
       "       [ 0., 65., 45.,  0.,  0., 10.,  0.],\n",
       "       [90.,  0.,  0.,  0., 65.,  0.,  0.],\n",
       "       [ 0.,  0.,  0.,  0., 30.,  0., 75.]])"
      ]
     },
     "execution_count": 186,
     "metadata": {},
     "output_type": "execute_result"
    }
   ],
   "source": [
    "#Более удобное представление результата доставок с завода клиенту.\n",
    "np.reshape(deliver_f_c['x'],(factories,clients))"
   ]
  },
  {
   "cell_type": "markdown",
   "metadata": {},
   "source": [
    "Доставка завод-склад"
   ]
  },
  {
   "cell_type": "code",
   "execution_count": 187,
   "metadata": {},
   "outputs": [],
   "source": [
    "# Вектор затрат на транспортировку с завода до склада. \n",
    "# Псевдостолбики - склады.\n",
    "# Псевдострочки - заводы.\n",
    "\n",
    "ship_prices_f_w = np.array([78, 15, 42,\n",
    "                                            33, 60, 60,\n",
    "                                            60, 9, 24,\n",
    "                                            51, 45, 15,\n",
    "                                            33, 39, 12])"
   ]
  },
  {
   "cell_type": "code",
   "execution_count": 189,
   "metadata": {},
   "outputs": [
    {
     "name": "stdout",
     "output_type": "stream",
     "text": [
      "15\n"
     ]
    }
   ],
   "source": [
    "# Число складов\n",
    "warehouses = 3\n",
    "\n",
    "variables_f_w = len(ship_prices_f_w) #число переменных \n",
    "print(variables_f_w)"
   ]
  },
  {
   "cell_type": "code",
   "execution_count": 193,
   "metadata": {},
   "outputs": [
    {
     "data": {
      "text/plain": [
       "array([290.,   0., 115., 100.,   0.])"
      ]
     },
     "execution_count": 193,
     "metadata": {},
     "output_type": "execute_result"
    }
   ],
   "source": [
    "capacity = np.array([150,150, 205]) #вместимость складов\n",
    "\n",
    "remains = deliver_f_c['slack'] #остатки нужно увезти на склады\n",
    "remains"
   ]
  },
  {
   "cell_type": "code",
   "execution_count": 211,
   "metadata": {},
   "outputs": [
    {
     "data": {
      "text/plain": [
       "array([[1, 1, 1, 0, 0, 0, 0, 0, 0, 0, 0, 0, 0, 0, 0],\n",
       "       [0, 0, 0, 1, 1, 1, 0, 0, 0, 0, 0, 0, 0, 0, 0],\n",
       "       [0, 0, 0, 0, 0, 0, 1, 1, 1, 0, 0, 0, 0, 0, 0],\n",
       "       [0, 0, 0, 0, 0, 0, 0, 0, 0, 1, 1, 1, 0, 0, 0],\n",
       "       [0, 0, 0, 0, 0, 0, 0, 0, 0, 0, 0, 0, 1, 1, 1]])"
      ]
     },
     "execution_count": 211,
     "metadata": {},
     "output_type": "execute_result"
    }
   ],
   "source": [
    "# Результат выполнения данной функции записываем в переменную. Ограничения \n",
    "limitations_to_reserves_f_w=matrix_of_reserves_limitations(factories, variables_f_w)\n",
    "\n",
    "#Любуемся.\n",
    "limitations_to_reserves_f_w"
   ]
  },
  {
   "cell_type": "code",
   "execution_count": 212,
   "metadata": {},
   "outputs": [
    {
     "data": {
      "text/plain": [
       "array([[1, 0, 0, 1, 0, 0, 1, 0, 0, 1, 0, 0, 1, 0, 0],\n",
       "       [0, 1, 0, 0, 1, 0, 0, 1, 0, 0, 1, 0, 0, 1, 0],\n",
       "       [0, 0, 1, 0, 0, 1, 0, 0, 1, 0, 0, 1, 0, 0, 1]])"
      ]
     },
     "execution_count": 212,
     "metadata": {},
     "output_type": "execute_result"
    }
   ],
   "source": [
    "# Результат выполнения данной функции записываем в переменную.\n",
    "limitations_to_remains=matrix_of_demand_limitations(factories, variables_f_w)\n",
    "\n",
    "#Любуемся.\n",
    "limitations_to_remains"
   ]
  },
  {
   "cell_type": "code",
   "execution_count": 214,
   "metadata": {},
   "outputs": [
    {
     "data": {
      "text/plain": [
       "     con: array([0., 0., 0., 0., 0.])\n",
       "     fun: 17790.0\n",
       " message: 'Optimization terminated successfully.'\n",
       "     nit: 12\n",
       "   slack: array([0., 0., 0.])\n",
       "  status: 0\n",
       " success: True\n",
       "       x: array([  0., 150., 140.,   0.,   0.,   0.,  50.,   0.,  65., 100.,   0.,\n",
       "         0.,   0.,   0.,   0.])"
      ]
     },
     "execution_count": 214,
     "metadata": {},
     "output_type": "execute_result"
    }
   ],
   "source": [
    "#Решаю симплекс-методом. Он медленне остальных и относительно старый, но зато целочисленный.\n",
    "deliver_f_w=linprog(c=ship_prices_f_w, \n",
    "              A_ub=limitations_to_remains, b_ub=capacity,\n",
    "              A_eq=limitations_to_reserves_f_w, b_eq=remains ,method='simplex')\n",
    "deliver_f_w"
   ]
  },
  {
   "cell_type": "code",
   "execution_count": 215,
   "metadata": {},
   "outputs": [
    {
     "data": {
      "text/plain": [
       "array([[  0., 150., 140.],\n",
       "       [  0.,   0.,   0.],\n",
       "       [ 50.,   0.,  65.],\n",
       "       [100.,   0.,   0.],\n",
       "       [  0.,   0.,   0.]])"
      ]
     },
     "execution_count": 215,
     "metadata": {},
     "output_type": "execute_result"
    }
   ],
   "source": [
    "#Более удобное представление результата доставок с завода на склады.\n",
    "np.reshape(deliver_f_w['x'],(factories,warehouses))"
   ]
  },
  {
   "cell_type": "markdown",
   "metadata": {},
   "source": [
    "Доставка склад - клиент не изменилась."
   ]
  },
  {
   "cell_type": "markdown",
   "metadata": {},
   "source": [
    "# Итого"
   ]
  },
  {
   "cell_type": "code",
   "execution_count": 218,
   "metadata": {},
   "outputs": [
    {
     "data": {
      "text/plain": [
       "48555.0"
      ]
     },
     "execution_count": 218,
     "metadata": {},
     "output_type": "execute_result"
    }
   ],
   "source": [
    "#Считаем затраты\n",
    "bad_score = second_week['fun'] + deliver_f_c['fun'] +deliver_f_w['fun']\n",
    "bad_score"
   ]
  },
  {
   "cell_type": "code",
   "execution_count": 229,
   "metadata": {},
   "outputs": [
    {
     "name": "stdout",
     "output_type": "stream",
     "text": [
      "Мы сэкономили 1530.0 у.е.,\n",
      "(или 3.0 %) расходов при \"тотальной\" оптимизации\n"
     ]
    }
   ],
   "source": [
    "#Считаем экономию \n",
    "save = bad_score - good_score\n",
    "print('Мы сэкономили', save, 'у.е.,')\n",
    "\n",
    "improve = 100-round(good_score/bad_score*100)\n",
    "print('(или', improve, '%) расходов при \"тотальной\" оптимизации')"
   ]
  },
  {
   "cell_type": "code",
   "execution_count": null,
   "metadata": {},
   "outputs": [],
   "source": []
  }
 ],
 "metadata": {
  "kernelspec": {
   "display_name": "Python 3",
   "language": "python",
   "name": "python3"
  },
  "language_info": {
   "codemirror_mode": {
    "name": "ipython",
    "version": 3
   },
   "file_extension": ".py",
   "mimetype": "text/x-python",
   "name": "python",
   "nbconvert_exporter": "python",
   "pygments_lexer": "ipython3",
   "version": "3.7.4"
  }
 },
 "nbformat": 4,
 "nbformat_minor": 2
}
